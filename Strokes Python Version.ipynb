{
 "cells": [
  {
   "cell_type": "code",
   "execution_count": 389,
   "metadata": {},
   "outputs": [],
   "source": [
    "import numpy as np\n",
    "import pandas as pd\n",
    "\n",
    "%matplotlib inline\n",
    "import matplotlib.pyplot as plt"
   ]
  },
  {
   "cell_type": "code",
   "execution_count": 390,
   "metadata": {},
   "outputs": [],
   "source": [
    "def rot_matrix(radians):\n",
    "    return np.array([[np.cos(radians), -np.sin(radians)], \n",
    "                     [np.sin(radians), np.cos(radians)]])"
   ]
  },
  {
   "cell_type": "code",
   "execution_count": 391,
   "metadata": {},
   "outputs": [],
   "source": [
    "def stroke(x0, y0, radians, length, width, window_size=(16, 16)):\n",
    "    # Direct reconstrucion from Alistair's code\n",
    "    \n",
    "    #\n",
    "    x = np.arange(window_size[0]) - x0\n",
    "    y = np.arange(window_size[0]) - y0\n",
    "    \n",
    "    #\n",
    "    ux = x * np.cos(radians)\n",
    "    uy = y * np.sin(radians)\n",
    "    \n",
    "    #\n",
    "    vx = -x * np.sin(radians)\n",
    "    vy = y * np.cos(radians)\n",
    "    \n",
    "    # \n",
    "    u = np.repeat(np.reshape(ux, (1, window_size[0])), window_size[0], axis=0) + \\\n",
    "        np.repeat(np.reshape(uy, (window_size[0], 1)), window_size[0], axis=1)\n",
    "    v = np.repeat(np.reshape(vx, (1, window_size[0])), window_size[0], axis=0) + \\\n",
    "        np.repeat(np.reshape(vy, (window_size[0], 1)), window_size[0], axis=1)\n",
    "\n",
    "    \n",
    "    region = (0 < v) & (v < length)\n",
    "    \n",
    "    return np.exp(- (u ** 2) / width) * region\n",
    "\n",
    "\n",
    "def stroke2(x0, y0, radians, length, width, window_size=16):\n",
    "    # My version usings all matrix operations\n",
    "    \n",
    "    # 2x2\n",
    "    rot = rot_matrix(radians)\n",
    "    \n",
    "    # (x - x0)\n",
    "    # (y - y0)\n",
    "    # 2xwindow_size\n",
    "    xy = np.repeat(np.arange(window_size)[np.newaxis, :], 2, axis=0) - [[x0-1], [y0-1]]\n",
    "    \n",
    "    # (ux, uy)\n",
    "    # (vx, vy)\n",
    "    # 2x2xwindow_size\n",
    "    uv_xy = np.apply_along_axis(lambda x: np.multiply(rot, x), axis=0, arr=xy)\n",
    "    \n",
    "    # (ux + uyT)\n",
    "    # (vx + vyT)\n",
    "    # 2xwindow_sizexwindow_size\n",
    "    u, v = (uv_xy[:, 0, np.newaxis, :] + uv_xy[:, 1, :, np.newaxis])\n",
    "    \n",
    "    \n",
    "    region = (0 < v) & (v < length)\n",
    "    \n",
    "    return np.exp(- (u / width) ** 2) * region"
   ]
  },
  {
   "cell_type": "code",
   "execution_count": 392,
   "metadata": {},
   "outputs": [],
   "source": [
    "def many_strokes(list_params, window_size=16, kind=\"max\"):\n",
    "    # params.shape: (n, n_strokes, 5)\n",
    "    \n",
    "    stroke_lam = lambda x: stroke2(*x, window_size=window_size)\n",
    "    strokes = np.apply_along_axis(stroke_lam, -1, list_params)\n",
    "\n",
    "    # strokes.shape: (n, n_strokes, window_size, window_size)\n",
    "    \n",
    "    kinds = {\n",
    "        \"sum\": lambda strokes: strokes.sum(axis=1),\n",
    "        \"clip\": lambda strokes: np.clip(strokes.sum(axis=1), 0, 1),\n",
    "        \"max\": lambda strokes: strokes.max(axis=1),\n",
    "    }\n",
    "    \n",
    "    return kinds[kind](strokes)"
   ]
  },
  {
   "cell_type": "markdown",
   "metadata": {},
   "source": [
    "---"
   ]
  },
  {
   "cell_type": "code",
   "execution_count": 426,
   "metadata": {},
   "outputs": [],
   "source": [
    "params = [\n",
    "    [5, 5, np.pi/2, 10, 2],\n",
    "    [13, 5, -np.pi/8, 10, 2],\n",
    "]"
   ]
  },
  {
   "cell_type": "code",
   "execution_count": 428,
   "metadata": {},
   "outputs": [
    {
     "data": {
      "text/plain": [
       "<matplotlib.image.AxesImage at 0x2173393eb38>"
      ]
     },
     "execution_count": 428,
     "metadata": {},
     "output_type": "execute_result"
    },
    {
     "data": {
      "image/png": "[encoded data removed]",
      "text/plain": [
       "<Figure size 432x288 with 1 Axes>"
      ]
     },
     "metadata": {},
     "output_type": "display_data"
    }
   ],
   "source": [
    "plt.imshow(many_strokes(params, 16, kind=\"sum\"))"
   ]
  },
  {
   "cell_type": "code",
   "execution_count": 429,
   "metadata": {},
   "outputs": [
    {
     "data": {
      "text/plain": [
       "<matplotlib.image.AxesImage at 0x217339a1978>"
      ]
     },
     "execution_count": 429,
     "metadata": {},
     "output_type": "execute_result"
    },
    {
     "data": {
      "image/png": "[encoded data removed]",
      "text/plain": [
       "<Figure size 432x288 with 1 Axes>"
      ]
     },
     "metadata": {},
     "output_type": "display_data"
    }
   ],
   "source": [
    "plt.imshow(many_strokes(params, 16, kind=\"clip\"))"
   ]
  },
  {
   "cell_type": "code",
   "execution_count": 430,
   "metadata": {},
   "outputs": [
    {
     "data": {
      "text/plain": [
       "<matplotlib.image.AxesImage at 0x21733a02748>"
      ]
     },
     "execution_count": 430,
     "metadata": {},
     "output_type": "execute_result"
    },
    {
     "data": {
      "image/png": "[encoded data removed]",
      "text/plain": [
       "<Figure size 432x288 with 1 Axes>"
      ]
     },
     "metadata": {},
     "output_type": "display_data"
    }
   ],
   "source": [
    "plt.imshow(many_strokes(params, 16, kind=\"max\"))"
   ]
  },
  {
   "cell_type": "markdown",
   "metadata": {},
   "source": [
    "---"
   ]
  },
  {
   "cell_type": "markdown",
   "metadata": {},
   "source": [
    "# Genetic Algorithm"
   ]
  },
  {
   "cell_type": "markdown",
   "metadata": {},
   "source": [
    "* Parameter space\n",
    "* Generate Population\n",
    "* Evaluate individual\n",
    "* Select best individual\n",
    "* Breed children"
   ]
  },
  {
   "cell_type": "code",
   "execution_count": 393,
   "metadata": {},
   "outputs": [],
   "source": [
    "param_space = np.array([(0, 16), (0, 16), (0, np.pi), (5, 22), (1, 3)])"
   ]
  },
  {
   "cell_type": "code",
   "execution_count": 394,
   "metadata": {},
   "outputs": [],
   "source": [
    "def gen_population(param_space, n, depth):\n",
    "    # Randomly samples from the given parameter space\n",
    "    # Uniform over each interval\n",
    "    _min = param_space[:,0]\n",
    "    _max = param_space[:,1]\n",
    "    \n",
    "    # (b - a) * rand + a\n",
    "    \n",
    "    scale = lambda x: (_max - _min) * x + _min\n",
    "    return np.apply_along_axis(scale, 2, np.random.random_sample((n, depth, len(param_space))))\n",
    "\n",
    "def gen_individual(param_space, depth):\n",
    "    return gen_population(param_space, 1, depth)"
   ]
  },
  {
   "cell_type": "code",
   "execution_count": 395,
   "metadata": {},
   "outputs": [],
   "source": [
    "# Paired\n",
    "def breed_avg(a, b):\n",
    "    return np.mean([a, b], axis=0)\n",
    "\n",
    "def breed_pick_one(a, b):\n",
    "    # Choice matrix\n",
    "    c = np.random.randint(2, size=a.shape)\n",
    "    return a * c + b * (1 - c)\n",
    "\n",
    "def breed_uniform(a, b):\n",
    "    # Weight matrix\n",
    "    c = np.random.random(a.shape)\n",
    "    return a * c + b * (1 - c)\n",
    "\n",
    "# Single\n",
    "def breed_rand(a, param_space, breed_func=breed_uniform):\n",
    "    # Choice matrix\n",
    "    c = np.random.randint(2, size=a.shape)\n",
    "    new = gen_population(param_space, len(a), a.shape[1])\n",
    "    \n",
    "    return breed_func(a, new)\n",
    "\n",
    "def breed_perturb(a, param_space, perturb_factor=0.1):    \n",
    "    _min = param_space[:,0]\n",
    "    _max = param_space[:,1]\n",
    "    \n",
    "    changes = (np.random.random(a.shape) - 0.5) * perturb_factor\n",
    "    a_norm = (a - _min) / (_max - _min)\n",
    "    \n",
    "    out = np.clip(a_norm + changes, 0, 1) * (_max - _min) + _min\n",
    "    return out\n",
    "    \n",
    "    \n",
    "    \n",
    "\n",
    "def breed(candidates, n, breed_func=breed_pick_one, param_space=None, breed_func_kwargs={}):\n",
    "    # candidates.shape: (n, depth, n_params)\n",
    "    \n",
    "    # Pair odds & evens\n",
    "#     cand_pairs = [candidates[::2], candidates[1::2]]\n",
    "    \n",
    "    \n",
    "    # Random pairs with replacement\n",
    "    cand_pairs = candidates[np.random.randint(len(candidates), size=(2, n)),]\n",
    "    \n",
    "    if breed_func in (breed_rand, breed_perturb):\n",
    "        assert param_space is not None\n",
    "        children = breed_func(cand_pairs[0], param_space, **breed_func_kwargs)\n",
    "    else:\n",
    "        children = breed_func(cand_pairs[0], cand_pairs[1], **breed_func_kwargs)\n",
    "    \n",
    "    return children"
   ]
  },
  {
   "cell_type": "code",
   "execution_count": 396,
   "metadata": {},
   "outputs": [],
   "source": [
    "def gen_next_pop(param_space, n, depth, breed_candidates, breed_proportion, parent_proportion, \n",
    "                 breed_func=breed_pick_one, breed_func_kwargs={}):\n",
    "    n_breed = int(n * breed_proportion)\n",
    "    n_parent = min(int (n * parent_proportion), len(breed_candidates))\n",
    "    n_gen = n - n_breed - n_parent\n",
    "    \n",
    "    # Breed\n",
    "    ch1 = breed_candidates[:n_parent]\n",
    "    ch2 = breed(breed_candidates, n_breed, breed_func=breed_func, param_space=param_space, breed_func_kwargs=breed_func_kwargs)\n",
    "    ch3 = gen_population(param_space, n_gen, depth)\n",
    "    \n",
    "    return np.concatenate((ch1, ch2, ch3))"
   ]
  },
  {
   "cell_type": "code",
   "execution_count": 538,
   "metadata": {},
   "outputs": [
    {
     "data": {
      "text/plain": [
       "<matplotlib.image.AxesImage at 0x2aaa8fd5a58>"
      ]
     },
     "execution_count": 538,
     "metadata": {},
     "output_type": "execute_result"
    },
    {
     "data": {
      "image/png": "[encoded data removed]",
      "text/plain": [
       "<Figure size 432x288 with 1 Axes>"
      ]
     },
     "metadata": {
      "needs_background": "light"
     },
     "output_type": "display_data"
    }
   ],
   "source": [
    "pop = gen_population(param_space, 5, 4)\n",
    "pop_img = many_strokes(pop)\n",
    "plt.imshow(pop_img[0])"
   ]
  },
  {
   "cell_type": "markdown",
   "metadata": {},
   "source": [
    "---"
   ]
  },
  {
   "cell_type": "markdown",
   "metadata": {},
   "source": [
    "# Load digits"
   ]
  },
  {
   "cell_type": "code",
   "execution_count": 515,
   "metadata": {},
   "outputs": [],
   "source": [
    "digits = pd.read_csv(\"./data/digits/Zl3d.dat\", sep=\" \", header=None).drop(columns=[256]).values.reshape((-1, 16, 16)) / 255"
   ]
  },
  {
   "cell_type": "code",
   "execution_count": 516,
   "metadata": {},
   "outputs": [
    {
     "data": {
      "text/plain": [
       "<matplotlib.image.AxesImage at 0x2b13ee13630>"
      ]
     },
     "execution_count": 516,
     "metadata": {},
     "output_type": "execute_result"
    },
    {
     "data": {
      "image/png": "[encoded data removed]",
      "text/plain": [
       "<Figure size 432x288 with 1 Axes>"
      ]
     },
     "metadata": {},
     "output_type": "display_data"
    }
   ],
   "source": [
    "target = digits[0]\n",
    "plt.imshow(target)"
   ]
  },
  {
   "cell_type": "code",
   "execution_count": 217,
   "metadata": {},
   "outputs": [],
   "source": [
    "def euclidean2(a, b, axis=None):\n",
    "    return np.sum((a - b) ** 2, axis=axis)"
   ]
  },
  {
   "cell_type": "markdown",
   "metadata": {},
   "source": [
    "---"
   ]
  },
  {
   "cell_type": "code",
   "execution_count": 578,
   "metadata": {
    "scrolled": true
   },
   "outputs": [
    {
     "name": "stdout",
     "output_type": "stream",
     "text": [
      "0 : 55.550059563844854\n",
      "1 : 55.550059563844854\n",
      "2 : 51.298960701389184\n",
      "3 : 51.298960701389184\n",
      "4 : 51.298960701389184\n",
      "5 : 51.298960701389184\n",
      "6 : 49.757963050314075\n",
      "7 : 49.757963050314075\n",
      "8 : 40.995298989372\n",
      "9 : 40.995298989372\n",
      "10 : 40.995298989372\n",
      "11 : 40.995298989372\n",
      "12 : 40.04684037860493\n",
      "13 : 40.04684037860493\n",
      "14 : 40.04684037860493\n",
      "15 : 40.04684037860493\n",
      "16 : 40.04684037860493\n",
      "17 : 40.04684037860493\n",
      "18 : 40.04684037860493\n",
      "19 : 40.04684037860493\n",
      "20 : 40.04684037860493\n",
      "21 : 40.04684037860493\n",
      "22 : 40.04684037860493\n",
      "23 : 40.04684037860493\n",
      "24 : 40.04684037860493\n",
      "25 : 40.04684037860493\n",
      "26 : 40.04684037860493\n",
      "27 : 40.04684037860493\n",
      "28 : 40.04684037860493\n",
      "29 : 40.04684037860493\n",
      "30 : 40.04684037860493\n",
      "31 : 40.04684037860493\n",
      "32 : 40.04684037860493\n",
      "33 : 40.04684037860493\n",
      "34 : 40.04684037860493\n",
      "35 : 40.04684037860493\n",
      "36 : 40.04684037860493\n",
      "37 : 40.04684037860493\n",
      "38 : 40.04684037860493\n",
      "39 : 40.04684037860493\n",
      "40 : 40.04684037860493\n",
      "41 : 40.04684037860493\n",
      "42 : 40.04684037860493\n",
      "43 : 40.04684037860493\n",
      "44 : 40.04684037860493\n",
      "45 : 40.04684037860493\n",
      "46 : 40.04684037860493\n",
      "47 : 40.04684037860493\n",
      "48 : 40.04684037860493\n",
      "49 : 40.04684037860493\n",
      "50 : 40.04684037860493\n",
      "51 : 40.04684037860493\n",
      "52 : 40.04684037860493\n",
      "53 : 40.04684037860493\n",
      "54 : 40.04684037860493\n",
      "55 : 40.04684037860493\n",
      "56 : 40.04684037860493\n",
      "57 : 40.04684037860493\n",
      "58 : 40.04684037860493\n",
      "59 : 40.04684037860493\n",
      "60 : 40.04684037860493\n",
      "61 : 40.04684037860493\n",
      "62 : 40.04684037860493\n",
      "63 : 40.04684037860493\n",
      "64 : 40.04684037860493\n",
      "65 : 40.04684037860493\n",
      "66 : 40.04684037860493\n",
      "67 : 40.04684037860493\n",
      "68 : 40.04684037860493\n",
      "69 : 40.04684037860493\n",
      "70 : 40.04684037860493\n",
      "71 : 40.04684037860493\n",
      "72 : 40.04684037860493\n",
      "73 : 40.04684037860493\n",
      "74 : 40.04684037860493\n",
      "75 : 40.04684037860493\n",
      "76 : 40.04684037860493\n",
      "77 : 40.04684037860493\n",
      "78 : 40.04684037860493\n",
      "79 : 40.04684037860493\n",
      "80 : 40.04684037860493\n",
      "81 : 40.04684037860493\n",
      "82 : 40.04684037860493\n",
      "83 : 40.04684037860493\n",
      "84 : 40.04684037860493\n",
      "85 : 40.04684037860493\n",
      "86 : 40.04684037860493\n",
      "87 : 40.04684037860493\n",
      "88 : 40.04684037860493\n",
      "89 : 40.04684037860493\n",
      "90 : 40.04684037860493\n",
      "91 : 40.04684037860493\n",
      "92 : 40.04684037860493\n",
      "93 : 40.04684037860493\n",
      "94 : 40.04684037860493\n",
      "95 : 40.04684037860493\n",
      "96 : 40.04684037860493\n",
      "97 : 40.04684037860493\n",
      "98 : 40.04684037860493\n",
      "99 : 40.04684037860493\n"
     ]
    }
   ],
   "source": [
    "pop_size = 100\n",
    "n_strokes = 5\n",
    "n_candidates = 50\n",
    "\n",
    "for i in range(100):\n",
    "    if i == 0:\n",
    "        pop = gen_population(param_space, pop_size, n_strokes)\n",
    "    else:\n",
    "        pop = gen_next_pop(param_space, pop_size, n_strokes, parents, 0.1, 0.05, \n",
    "                           breed_func=breed_rand, breed_func_kwargs={\"perturb_factor\": 0.95**i})\n",
    "        \n",
    "    pop_img = many_strokes(pop)\n",
    "    pop_err = euclidean2(pop_img, target, axis=(1,2))\n",
    "    pop_ord = pop_err.argsort()\n",
    "    parents = pop[pop_ord[:n_candidates]]\n",
    "    \n",
    "    print(i, \":\", pop_err[pop_ord[0]])"
   ]
  },
  {
   "cell_type": "code",
   "execution_count": 581,
   "metadata": {},
   "outputs": [
    {
     "data": {
      "text/plain": [
       "<matplotlib.image.AxesImage at 0x2b140729a20>"
      ]
     },
     "execution_count": 581,
     "metadata": {},
     "output_type": "execute_result"
    },
    {
     "data": {
      "image/png": "[encoded data removed]",
      "text/plain": [
       "<Figure size 432x288 with 1 Axes>"
      ]
     },
     "metadata": {},
     "output_type": "display_data"
    }
   ],
   "source": [
    "plt.imshow(pop_img[pop_ord[2]])"
   ]
  },
  {
   "cell_type": "code",
   "execution_count": 577,
   "metadata": {},
   "outputs": [
    {
     "data": {
      "text/plain": [
       "0.39472395354164064"
      ]
     },
     "execution_count": 577,
     "metadata": {},
     "output_type": "execute_result"
    }
   ],
   "source": [
    "euclidean2(pop_img[pop_ord[0]], pop_img[pop_ord[1]])"
   ]
  },
  {
   "cell_type": "code",
   "execution_count": 564,
   "metadata": {},
   "outputs": [
    {
     "data": {
      "text/plain": [
       "array([[1.29582862e+00, 2.85400709e+00, 1.62629475e+00, 1.35404392e+01,\n",
       "        1.31105092e+00],\n",
       "       [7.39524011e+00, 1.03128941e+01, 2.60947360e+00, 1.59364777e+01,\n",
       "        1.29130697e+00],\n",
       "       [7.13684264e-01, 1.39531525e+01, 1.01173047e+00, 8.89090586e+00,\n",
       "        2.44711550e+00],\n",
       "       [1.39740481e+01, 1.28179137e+01, 2.17797557e+00, 1.71815011e+01,\n",
       "        2.05111766e+00],\n",
       "       [1.19090288e+01, 2.48014481e+00, 8.12387777e-03, 1.35076269e+01,\n",
       "        3.00000000e+00]])"
      ]
     },
     "execution_count": 564,
     "metadata": {},
     "output_type": "execute_result"
    }
   ],
   "source": [
    "breed_perturb(pop[pop_ord[0]], param_space)"
   ]
  },
  {
   "cell_type": "markdown",
   "metadata": {},
   "source": [
    "---"
   ]
  },
  {
   "cell_type": "markdown",
   "metadata": {},
   "source": [
    "# Changing how parameters are defined"
   ]
  },
  {
   "cell_type": "code",
   "execution_count": 528,
   "metadata": {},
   "outputs": [],
   "source": [
    "class Param:\n",
    "    value = None\n",
    "    \n",
    "    # reduces Param objects to floats\n",
    "    get_val = np.vectorize(lambda x: x.value)\n",
    "    \n",
    "    def __init__(self, _min, _max, val=None):\n",
    "        self.min = _min\n",
    "        self.max = _max\n",
    "        \n",
    "        if val:\n",
    "            self.value = val\n",
    "            self.clip()\n",
    "        \n",
    "    \n",
    "    def perturb(self, proportion):\n",
    "        change = (self.max - self.min) * proportion * (np.random.random() * 2 - 1)\n",
    "        self += change\n",
    "    \n",
    "    def __str__(self):\n",
    "        out = \"min: {: .5f}, max: {: .5f}\".format(self.min, self.max)\n",
    "        \n",
    "        if self.value:\n",
    "            out += \", val: {: .5f}\".format(self.value)\n",
    "        \n",
    "        return out\n",
    "    \n",
    "    def __repr__(self):\n",
    "        return \"{:.5f}\".format(self.value)\n",
    "    \n",
    "    def __neg__(self):\n",
    "        return - self.value\n",
    "    \n",
    "    def __add__(self, other):\n",
    "        # Adding two parameters\n",
    "        if issubclass(self.__class__, Param) and issubclass(other.__class__, Param):\n",
    "            return self.value + other.value\n",
    "        \n",
    "        # Adding this and a number\n",
    "        return self.__class__(self.min, self.max, self.value + other)\n",
    "    \n",
    "    def __sub__(self, other):\n",
    "        return self.__add__(-other)\n",
    "    \n",
    "    def __mul__(self, other):\n",
    "        # Two parameters\n",
    "        if issubclass(self.__class__, Param) and issubclass(other.__class__, Param):\n",
    "            return self.value * other.value\n",
    "        \n",
    "        # This and a number\n",
    "        return self.__class__(self.min, self.max, self.value * other)\n",
    "        \n",
    "    def __iadd__(self, other):\n",
    "        # Two parameters\n",
    "        if issubclass(self.__class__, Param) and issubclass(other.__class__, Param):\n",
    "            other = other.value\n",
    "        \n",
    "        self.value += other\n",
    "        self.clip()\n",
    "        return self\n",
    "    \n",
    "    def __isub__(self, amount):\n",
    "        return self.__iadd__(-amount)\n",
    "    \n",
    "    \n",
    "    def generate(self, n=1):\n",
    "        vals = (self.max - self.min) * np.random.random((n,)) + self.min\n",
    "        return np.array([self.__class__(self.min, self.max, val) for val in vals])\n",
    "    \n",
    "    \n",
    "        \n",
    "class ParamLinear(Param):\n",
    "    def clip(self):\n",
    "        self.value = np.clip(self.value, self.min, self.max)\n",
    "    \n",
    "class ParamCircular(Param):\n",
    "    def clip(self):\n",
    "        self.value = ((self.value - self.min) % (self.max - self.min)) + self.min\n",
    "        \n",
    "        \n",
    "        \n",
    "class ParamSpace:\n",
    "    def __init__(self, params):\n",
    "        self.params = np.array(params)\n",
    "    \n",
    "    def __str__(self):\n",
    "        return \"\\n\".join(map(str, self.params))\n",
    "    \n",
    "    def __repr__(self):\n",
    "        return self.__str__()\n",
    "    \n",
    "    def generate(self, shape=(1,)):\n",
    "        n = np.prod(shape)\n",
    "        return np.array([p.generate(n) for p in self.params]).T.reshape(shape + (-1,))\n",
    "    \n",
    "    \n",
    "    @classmethod\n",
    "    def from_list(cls, l):\n",
    "        # l: [(min, max, type), ...]\n",
    "        \n",
    "        types = {\"C\": ParamCircular, \"L\": ParamLinear, }\n",
    "        \n",
    "        params = [types[_type](_min, _max) for (_min, _max, _type) in l]\n",
    "        return cls(params)\n",
    "        "
   ]
  },
  {
   "cell_type": "code",
   "execution_count": 440,
   "metadata": {},
   "outputs": [
    {
     "data": {
      "text/plain": [
       "min:  0.00000, max:  16.00000\n",
       "min:  0.00000, max:  16.00000\n",
       "min:  0.00000, max:  3.14159\n",
       "min:  2.00000, max:  22.00000\n",
       "min:  1.00000, max:  5.00000"
      ]
     },
     "execution_count": 440,
     "metadata": {},
     "output_type": "execute_result"
    }
   ],
   "source": [
    "param_space2 = ParamSpace.from_list([(0, 16, \"L\"), (0, 16, \"L\"), (0, np.pi, \"C\"), (2, 22, \"L\"), (1, 5, \"L\")])\n",
    "param_space2"
   ]
  },
  {
   "cell_type": "code",
   "execution_count": 529,
   "metadata": {},
   "outputs": [],
   "source": [
    "x = param_space2.generate((3, 4))"
   ]
  },
  {
   "cell_type": "code",
   "execution_count": 552,
   "metadata": {},
   "outputs": [
    {
     "name": "stdout",
     "output_type": "stream",
     "text": [
      "[[[14.07434 13.66963 1.98408 13.82325 1.46948]\n",
      "  [7.48112 11.83167 1.61576 10.41455 2.63185]\n",
      "  [0.09296 0.58150 1.87757 4.82323 4.23638]\n",
      "  [3.50626 1.45070 1.17750 12.76573 3.78071]]\n",
      "\n",
      " [[10.16456 1.79825 1.36576 17.44246 3.30036]\n",
      "  [3.93186 2.29843 2.65367 8.25311 2.53081]\n",
      "  [8.09981 11.63000 2.40541 21.62842 4.13680]\n",
      "  [10.05418 15.56847 0.17665 13.70195 1.94433]]\n",
      "\n",
      " [[15.09187 3.51356 2.35204 8.35053 4.11207]\n",
      "  [6.81513 1.38748 1.26180 3.11673 4.63294]\n",
      "  [3.45807 7.76896 2.09344 20.40355 1.36514]\n",
      "  [3.43924 8.19575 1.67632 21.56894 3.15931]]]\n"
     ]
    }
   ],
   "source": []
  },
  {
   "cell_type": "code",
   "execution_count": 554,
   "metadata": {},
   "outputs": [
    {
     "data": {
      "text/plain": [
       "7372800"
      ]
     },
     "execution_count": 554,
     "metadata": {},
     "output_type": "execute_result"
    }
   ],
   "source": []
  },
  {
   "cell_type": "code",
   "execution_count": null,
   "metadata": {},
   "outputs": [],
   "source": []
  }
 ],
 "metadata": {
  "kernelspec": {
   "display_name": "Python 3",
   "language": "python",
   "name": "python3"
  },
  "language_info": {
   "codemirror_mode": {
    "name": "ipython",
    "version": 3
   },
   "file_extension": ".py",
   "mimetype": "text/x-python",
   "name": "python",
   "nbconvert_exporter": "python",
   "pygments_lexer": "ipython3",
   "version": "3.6.6"
  }
 },
 "nbformat": 4,
 "nbformat_minor": 2
}
