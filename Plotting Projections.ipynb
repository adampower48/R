{
 "cells": [
  {
   "cell_type": "code",
   "execution_count": 3,
   "metadata": {},
   "outputs": [],
   "source": [
    "get_rotation_matrix = function(radians, axis=0){\n",
    "    # https://en.wikipedia.org/wiki/Rotation_matrix#In_three_dimensions\n",
    "    if (axis==0){\n",
    "        return(matrix(c(1,0,0,0,cos(radians), sin(radians), 0, -sin(radians), cos(radians)), 3, 3))\n",
    "    } else if(axis == 1){\n",
    "        return(matrix(c(cos(radians), 0, -sin(radians), 0, 1, 0, sin(radians), 0, cos(radians)), 3, 3))\n",
    "    } else {\n",
    "        return(matrix(c(cos(radians), sin(radians), 0, -sin(radians), cos(radians), 0, 0, 0, 1), 3, 3))\n",
    "    }\n",
    "}\n",
    "\n",
    "get_3axis_rotation_matrix = function(x, y, z){\n",
    "    return(get_rotation_matrix(x, 0) %*% get_rotation_matrix(y, 1) %*% get_rotation_matrix(z, 2))\n",
    "}"
   ]
  },
  {
   "cell_type": "code",
   "execution_count": 4,
   "metadata": {},
   "outputs": [],
   "source": [
    "rotate_cube = function(cube, ...){\n",
    "    return(cube %*% get_3axis_rotation_matrix(...))\n",
    "}"
   ]
  },
  {
   "cell_type": "code",
   "execution_count": 54,
   "metadata": {},
   "outputs": [],
   "source": [
    "draw_cube = function(cube, from_axis=1){\n",
    "    # Given cube with sorted points\n",
    "    # 0,0,0\n",
    "    # 0,0,1\n",
    "    # 0,1,0\n",
    "    # 0,1,1\n",
    "    # ...\n",
    "    \n",
    "    # Axis from which to view cube\n",
    "    if(from_axis == 1){\n",
    "        ax = c(2, 3)\n",
    "    } else if(from_axis == 2){\n",
    "        ax = c(1, 3)\n",
    "    } else {\n",
    "        ax = c(1, 2)\n",
    "    }\n",
    "    \n",
    "    # Draws 2 squares and connects the corners to make a cube\n",
    "    side1 = cube[c(1,2,4,3,1),]\n",
    "    side2 = cube[c(1,2,4,3,1) + 4,]\n",
    "    lines(side1[,ax[1]], side1[,ax[2]])\n",
    "    lines(side2[,ax[1]], side2[,ax[2]])\n",
    "    \n",
    "    for(i in 1:4){\n",
    "        connector = rbind(side1[i,], side2[i,])\n",
    "        lines(connector[,ax[1]], connector[,ax[2]])\n",
    "    }\n",
    "}"
   ]
  },
  {
   "cell_type": "code",
   "execution_count": 102,
   "metadata": {},
   "outputs": [],
   "source": [
    "get_projection = function(cube, axis=1, zoom=10){\n",
    "    # All dimensions except axis\n",
    "    ax = c(1:dim(cube)[2])\n",
    "    ax = ax[ax != axis]\n",
    "    \n",
    "    proj = cube[,ax]/(zoom - cube[,axis])\n",
    "    return(proj)\n",
    "}"
   ]
  },
  {
   "cell_type": "code",
   "execution_count": 116,
   "metadata": {},
   "outputs": [],
   "source": [
    "draw_projection = function(proj){\n",
    "    # Add a dummy column so it can be drawn as a cube\n",
    "    cube = cbind(proj, matrix(0, dim(proj)[1]))\n",
    "    draw_cube(cube, from_axis = 2)\n",
    "}"
   ]
  },
  {
   "cell_type": "code",
   "execution_count": 28,
   "metadata": {},
   "outputs": [
    {
     "data": {
      "text/html": [
       "<table>\n",
       "<tbody>\n",
       "\t<tr><td>0</td><td>0</td><td>0</td></tr>\n",
       "\t<tr><td>0</td><td>0</td><td>1</td></tr>\n",
       "\t<tr><td>0</td><td>1</td><td>0</td></tr>\n",
       "\t<tr><td>0</td><td>1</td><td>1</td></tr>\n",
       "\t<tr><td>1</td><td>0</td><td>0</td></tr>\n",
       "\t<tr><td>1</td><td>0</td><td>1</td></tr>\n",
       "\t<tr><td>1</td><td>1</td><td>0</td></tr>\n",
       "\t<tr><td>1</td><td>1</td><td>1</td></tr>\n",
       "</tbody>\n",
       "</table>\n"
      ],
      "text/latex": [
       "\\begin{tabular}{lll}\n",
       "\t 0 & 0 & 0\\\\\n",
       "\t 0 & 0 & 1\\\\\n",
       "\t 0 & 1 & 0\\\\\n",
       "\t 0 & 1 & 1\\\\\n",
       "\t 1 & 0 & 0\\\\\n",
       "\t 1 & 0 & 1\\\\\n",
       "\t 1 & 1 & 0\\\\\n",
       "\t 1 & 1 & 1\\\\\n",
       "\\end{tabular}\n"
      ],
      "text/markdown": [
       "\n",
       "| 0 | 0 | 0 |\n",
       "| 0 | 0 | 1 |\n",
       "| 0 | 1 | 0 |\n",
       "| 0 | 1 | 1 |\n",
       "| 1 | 0 | 0 |\n",
       "| 1 | 0 | 1 |\n",
       "| 1 | 1 | 0 |\n",
       "| 1 | 1 | 1 |\n",
       "\n"
      ],
      "text/plain": [
       "     [,1] [,2] [,3]\n",
       "[1,] 0    0    0   \n",
       "[2,] 0    0    1   \n",
       "[3,] 0    1    0   \n",
       "[4,] 0    1    1   \n",
       "[5,] 1    0    0   \n",
       "[6,] 1    0    1   \n",
       "[7,] 1    1    0   \n",
       "[8,] 1    1    1   "
      ]
     },
     "metadata": {},
     "output_type": "display_data"
    }
   ],
   "source": [
    "cube = matrix(c(0,0,0, 0,0,1, 0,1,0, 0,1,1, 1,0,0, 1,0,1, 1,1,0, 1,1,1), byrow=T, 8, 3)\n",
    "cube"
   ]
  },
  {
   "cell_type": "code",
   "execution_count": 121,
   "metadata": {},
   "outputs": [
    {
     "data": {
      "image/png": "[encoded data removed]",
      "text/plain": [
       "plot without title"
      ]
     },
     "metadata": {},
     "output_type": "display_data"
    }
   ],
   "source": [
    "plot.new()\n",
    "plot.window(xlim=c(-2,2), ylim=c(-2,2))\n",
    "grid()\n",
    "axis(1)\n",
    "axis(2)\n",
    "\n",
    "\n",
    "p = get_projection(cube %*% get_3axis_rotation_matrix(0, 0, pi/8), zoom=2)\n",
    "draw_projection(p)"
   ]
  },
  {
   "cell_type": "code",
   "execution_count": null,
   "metadata": {},
   "outputs": [],
   "source": []
  }
 ],
 "metadata": {
  "kernelspec": {
   "display_name": "R",
   "language": "R",
   "name": "ir"
  },
  "language_info": {
   "codemirror_mode": "r",
   "file_extension": ".r",
   "mimetype": "text/x-r-source",
   "name": "R",
   "pygments_lexer": "r",
   "version": "3.5.1"
  }
 },
 "nbformat": 4,
 "nbformat_minor": 2
}
